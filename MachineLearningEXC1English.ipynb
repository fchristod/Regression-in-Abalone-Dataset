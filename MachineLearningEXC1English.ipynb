{
 "cells": [
  {
   "cell_type": "markdown",
   "source": [
    "Packages, Read Data, Arrays"
   ],
   "metadata": {}
  },
  {
   "cell_type": "code",
   "execution_count": 1,
   "source": [
    "import csv\r\n",
    "import numpy as np\r\n",
    "import pandas as pd\r\n",
    "from IPython.display import display, Markdown\r\n",
    "results = []\r\n",
    "with open(\"D:/christodfiles/Desktop/Σχολή/4οΈτος/ΜηχανικήΜάθηση/Εργασία1//abaloneData.csv\", \"r\") as myfile:\r\n",
    "    data = csv.reader(myfile, delimiter=\",\")\r\n",
    "    for dataline in data:\r\n",
    "        results.append(dataline)\r\n",
    "resultsArray = np.array(results)\r\n",
    "resultsArrayDel = np.delete(resultsArray, 0, 1)"
   ],
   "outputs": [],
   "metadata": {}
  },
  {
   "cell_type": "markdown",
   "source": [
    "Max Target, Min Target, number of variables and range of Υ"
   ],
   "metadata": {}
  },
  {
   "cell_type": "code",
   "execution_count": 2,
   "source": [
    "cells_X = resultsArrayDel[:,:7].astype(float) #deleting 'sex' from data\r\n",
    "cells_y = resultsArrayDel[:, 7:].astype(float)\r\n",
    "maxY = np.max(cells_y)\r\n",
    "minY = np.min(cells_y)\r\n",
    "rangeY = maxY - minY\r\n",
    "num_columnsX = np.shape(cells_X)[1]\r\n",
    "num_columnsY = np.shape(cells_y)[1]\r\n",
    "print(\"Num of Variables: \" +str(num_columnsX + num_columnsY))\r\n",
    "print(\"Num of Elements: \" +str(len(cells_y)))\r\n",
    "print(\"Max Rings: \" +str(maxY))\r\n",
    "print(\"Min Rings: \" +str(minY))\r\n",
    "print(\"Range of Y: \" +str(rangeY))"
   ],
   "outputs": [
    {
     "output_type": "stream",
     "name": "stdout",
     "text": [
      "Num of Variables: 8\n",
      "Num of Elements: 4177\n",
      "Max Rings: 29.0\n",
      "Min Rings: 1.0\n",
      "Range of Y: 28.0\n"
     ]
    }
   ],
   "metadata": {}
  },
  {
   "cell_type": "markdown",
   "source": [
    "Mean, STD for X and Y"
   ],
   "metadata": {}
  },
  {
   "cell_type": "code",
   "execution_count": 3,
   "source": [
    "meanX = np.mean(cells_X, axis=1)\r\n",
    "stdX = np.std(cells_X, axis=1)\r\n",
    "meanY = np.mean(cells_y)\r\n",
    "stdY = np.std(cells_y)\r\n",
    "print(\"Mean X: \" +str(meanX))\r\n",
    "print(\"Std X: \" +str(stdX))\r\n",
    "print(\"Mean Y: \" +str(meanY))\r\n",
    "print(\"Std Y: \" +str(stdY))"
   ],
   "outputs": [
    {
     "output_type": "stream",
     "name": "stdout",
     "text": [
      "Mean X: [0.27207143 0.16407143 0.33857143 ... 0.511      0.49178571 0.7465    ]\n",
      "Std X: [0.15964792 0.1071659  0.19322608 ... 0.30153169 0.29056741 0.53808045]\n",
      "Mean Y: 9.933684462532918\n",
      "Std Y: 3.2237830658212117\n"
     ]
    }
   ],
   "metadata": {}
  },
  {
   "cell_type": "markdown",
   "source": [
    "Split to training/test set and Normalization (mean=0 and std=1)"
   ],
   "metadata": {}
  },
  {
   "cell_type": "code",
   "execution_count": 4,
   "source": [
    "from sklearn.model_selection import train_test_split\r\n",
    "from sklearn.utils import shuffle\r\n",
    "from sklearn.preprocessing import StandardScaler\r\n",
    "\r\n",
    "# Split the data into training/testing sets at 10%\r\n",
    "n_samples = np.shape(cells_y)[0]\r\n",
    "test_set_size = int(np.round(n_samples*0.2))\r\n",
    "\r\n",
    "cells_X_train = cells_X[:-test_set_size]\r\n",
    "cells_X_test = cells_X[-test_set_size:]\r\n",
    "\r\n",
    "# Split the targets into training/testing sets\r\n",
    "cells_y_train = cells_y[:-test_set_size]\r\n",
    "cells_y_test = cells_y[-test_set_size:]\r\n",
    "\r\n",
    "#normalization\r\n",
    "datascaler = StandardScaler().fit(cells_X_train)\r\n",
    "cells_X_train_scaled = datascaler.transform(cells_X_train)\r\n",
    "cells_X_test_scaled = datascaler.transform(cells_X_test)\r\n",
    "\r\n",
    "print(\"Training data shape:\", np.shape(cells_X_train_scaled))\r\n",
    "print(\"Test data shape:\", np.shape(cells_X_test_scaled))\r\n",
    "\r\n",
    "print(cells_X_train_scaled.mean(axis=0)) #mean after transformation\r\n",
    "print(cells_X_train_scaled.std(axis=0)) #std after transformation"
   ],
   "outputs": [
    {
     "output_type": "stream",
     "name": "stdout",
     "text": [
      "Training data shape: (3342, 7)\n",
      "Test data shape: (835, 7)\n",
      "[-2.71213997e-15 -5.11178472e-15  1.28881213e-14 -4.51714934e-15\n",
      "  3.22645694e-15 -7.91058820e-16  1.16370774e-15]\n",
      "[1. 1. 1. 1. 1. 1. 1.]\n"
     ]
    }
   ],
   "metadata": {}
  },
  {
   "cell_type": "markdown",
   "source": [
    "success_rate function returns the percentage of succesfull predictions"
   ],
   "metadata": {}
  },
  {
   "cell_type": "code",
   "execution_count": 5,
   "source": [
    "def success_rate(y_test_pred, y_test, N):\r\n",
    "    successes = 0\r\n",
    "    for i in range(len(y_test)):\r\n",
    "        if np.abs(y_test_pred[i] - y_test[i]) < N:\r\n",
    "            successes = successes + 1\r\n",
    "    succession = (successes/len(y_test))*100\r\n",
    "    return succession"
   ],
   "outputs": [],
   "metadata": {}
  },
  {
   "cell_type": "markdown",
   "source": [
    "Training the model with Linear Regression"
   ],
   "metadata": {}
  },
  {
   "cell_type": "code",
   "execution_count": 6,
   "source": [
    "from sklearn import linear_model\r\n",
    "from sklearn.metrics import explained_variance_score\r\n",
    "from sklearn.model_selection import cross_val_predict\r\n",
    "\r\n",
    "# Create linear regression object\r\n",
    "regr = linear_model.LinearRegression()\r\n",
    "cells_y_train_pred = cross_val_predict(regr, cells_X_train_scaled, cells_y_train)\r\n",
    "\r\n",
    "# Train the model using the training sets\r\n",
    "regr.fit(cells_X_train_scaled, cells_y_train)\r\n",
    "cells_y_test_pred = regr.predict(cells_X_test_scaled)\r\n",
    "\r\n",
    "# Showing the results\r\n",
    "print(\"R^2: \" +str(explained_variance_score(cells_y_train, cells_y_train_pred)))\r\n",
    "print(\"Percentage of Succession: \"+str(success_rate(cells_y_test_pred, cells_y_test, 1))+ \"%\")"
   ],
   "outputs": [
    {
     "output_type": "stream",
     "name": "stdout",
     "text": [
      "R^2: 0.49308236358990576\n",
      "Percentage of Succession: 42.634730538922156%\n"
     ]
    }
   ],
   "metadata": {}
  },
  {
   "cell_type": "markdown",
   "source": [
    "Training the model without normalization to see if there is any improvement"
   ],
   "metadata": {}
  },
  {
   "cell_type": "code",
   "execution_count": 7,
   "source": [
    "#data without scaling\r\n",
    "cells_y_train_predNotScaled = cross_val_predict(regr, cells_X_train, cells_y_train)\r\n",
    "\r\n",
    "# Train the model using the training sets\r\n",
    "regr.fit(cells_X_train, cells_y_train)\r\n",
    "cells_y_test_predNotScaled = regr.predict(cells_X_test)\r\n",
    "\r\n",
    "# Showing the results\r\n",
    "print(\"R^2: \" +str(explained_variance_score(cells_y_train, cells_y_train_predNotScaled)))\r\n",
    "print(\"Percentage of Succession: \" +str(success_rate(cells_y_test_predNotScaled, cells_y_test, 1))+ \"%\")"
   ],
   "outputs": [
    {
     "output_type": "stream",
     "name": "stdout",
     "text": [
      "R^2: 0.4930823635899051\n",
      "Percentage of Succession: 42.634730538922156%\n"
     ]
    }
   ],
   "metadata": {}
  },
  {
   "cell_type": "markdown",
   "source": [
    "Ridge Regression with free a and coefficients. The least important variable in our model is the shucked weight (small coefficients)"
   ],
   "metadata": {}
  },
  {
   "cell_type": "code",
   "execution_count": 8,
   "source": [
    "from sklearn.model_selection import GridSearchCV\r\n",
    "regr2  = linear_model.Ridge(alpha=10**4)\r\n",
    "cells_y_train_pred = cross_val_predict(regr2, cells_X_train_scaled, cells_y_train, cv=10)\r\n",
    "\r\n",
    "regr2.fit(cells_X_train_scaled, cells_y_train)\r\n",
    "cells_y_test_pred = regr2.predict(cells_X_test_scaled)\r\n",
    "\r\n",
    "print(\"R^2: \" +str(explained_variance_score(cells_y_train, cells_y_train_pred)))\r\n",
    "print(\"Percentage of Succession: \"+str(success_rate(cells_y_test_pred, cells_y_test, 1))+ \"%\")\r\n",
    "\r\n",
    "print(\"Coef LinReg: \" +str(regr.coef_))\r\n",
    "print(\"Coef Ridge: \" +str(regr2.coef_))"
   ],
   "outputs": [
    {
     "output_type": "stream",
     "name": "stdout",
     "text": [
      "R^2: 0.2673003418089348\n",
      "Percentage of Succession: 30.898203592814372%\n",
      "Coef LinReg: [[ -2.91153646  15.52247779  10.22353942   9.5295705  -20.64403838\n",
      "  -10.19204681   8.85323305]]\n",
      "Coef Ridge: [[0.20581873 0.22661863 0.23286621 0.18589217 0.06597421 0.15260696\n",
      "  0.2945147 ]]\n"
     ]
    }
   ],
   "metadata": {}
  },
  {
   "cell_type": "markdown",
   "source": [
    "α=10^6 -> no improvement"
   ],
   "metadata": {}
  },
  {
   "cell_type": "code",
   "execution_count": 9,
   "source": [
    "from sklearn.model_selection import GridSearchCV\r\n",
    "regr2  = linear_model.Ridge(alpha=10**6)\r\n",
    "cells_y_train_pred = cross_val_predict(regr2, cells_X_train_scaled, cells_y_train, cv=10)\r\n",
    "\r\n",
    "regr2.fit(cells_X_train_scaled, cells_y_train)\r\n",
    "cells_y_test_pred = regr2.predict(cells_X_test_scaled)\r\n",
    "\r\n",
    "print(\"R^2: \" +str(explained_variance_score(cells_y_train, cells_y_train_pred)))\r\n",
    "print(\"Percentage of Succession: \"+str(success_rate(cells_y_test_pred, cells_y_test, 1))+ \"%\")"
   ],
   "outputs": [
    {
     "output_type": "stream",
     "name": "stdout",
     "text": [
      "R^2: -0.011977030415008638\n",
      "Percentage of Succession: 31.736526946107784%\n"
     ]
    }
   ],
   "metadata": {}
  },
  {
   "cell_type": "markdown",
   "source": [
    "Ridge Regression with polynomial features of second degree in the normalized data"
   ],
   "metadata": {}
  },
  {
   "cell_type": "code",
   "execution_count": 10,
   "source": [
    "from sklearn.preprocessing import PolynomialFeatures\r\n",
    "polyModel = PolynomialFeatures(degree = 2)\r\n",
    "\r\n",
    "cells_X_train_poly = polyModel.fit_transform(cells_X_train_scaled)\r\n",
    "cells_X_test_poly = polyModel.fit_transform(cells_X_test_scaled)\r\n",
    "\r\n",
    "# normalize the polynomial features\r\n",
    "datascaler = StandardScaler().fit(cells_X_train_poly)\r\n",
    "cells_X_train_poly = datascaler.transform(cells_X_train_poly)\r\n",
    "cells_X_test_poly = datascaler.transform(cells_X_test_poly)\r\n",
    "\r\n",
    "regr3  = linear_model.Ridge(alpha=10**4)\r\n",
    "cells_y_train_pred = cross_val_predict(regr3, cells_X_train_poly, cells_y_train, cv=10)\r\n",
    "\r\n",
    "regr3.fit(cells_X_train_poly, cells_y_train)\r\n",
    "cells_y_test_pred = regr3.predict(cells_X_test_poly)\r\n",
    "\r\n",
    "print(\"R^2: \" +str(explained_variance_score(cells_y_train, cells_y_train_pred)))\r\n",
    "print(\"Percentage of Succession: \"+str(success_rate(cells_y_test_pred, cells_y_test, 1))+ \"%\")"
   ],
   "outputs": [
    {
     "output_type": "stream",
     "name": "stdout",
     "text": [
      "R^2: 0.3129306870932579\n",
      "Percentage of Succession: 33.17365269461078%\n"
     ]
    }
   ],
   "metadata": {}
  },
  {
   "cell_type": "markdown",
   "source": [
    "Trying 20 values in logarithmic scale from 10^-6 to 10^4 we see improvement in our metrics"
   ],
   "metadata": {}
  },
  {
   "cell_type": "code",
   "execution_count": 11,
   "source": [
    "params = { \r\n",
    "           'alpha': np.logspace(-6, 4, 20) # try 20 values in logarithmic scale from 10^-6 to 10^4\r\n",
    "         }\r\n",
    "print(\"alphas: \")\r\n",
    "print(params['alpha'])\r\n",
    "\r\n",
    "regr5  = linear_model.Ridge() \r\n",
    "grid = GridSearchCV(estimator=regr5, cv = 10, param_grid=params) \r\n",
    "grid.fit(cells_X_train_poly, cells_y_train) \r\n",
    "cells_y_train_pred = grid.predict(cells_X_train_poly)\r\n",
    "cells_y_test_pred = grid.predict(cells_X_test_poly)\r\n",
    "\r\n",
    "print(\"Best lambda: \" +str(grid.best_params_['alpha']))\r\n",
    "print(\"R^2: \" +str(explained_variance_score(cells_y_train, cells_y_train_pred)))\r\n",
    "print(\"Percentage of Succession: \"+str(success_rate(cells_y_test_pred, cells_y_test, 1))+ \"%\")"
   ],
   "outputs": [
    {
     "output_type": "stream",
     "name": "stdout",
     "text": [
      "alphas: \n",
      "[1.00000000e-06 3.35981829e-06 1.12883789e-05 3.79269019e-05\n",
      " 1.27427499e-04 4.28133240e-04 1.43844989e-03 4.83293024e-03\n",
      " 1.62377674e-02 5.45559478e-02 1.83298071e-01 6.15848211e-01\n",
      " 2.06913808e+00 6.95192796e+00 2.33572147e+01 7.84759970e+01\n",
      " 2.63665090e+02 8.85866790e+02 2.97635144e+03 1.00000000e+04]\n",
      "Best lambda: 78.47599703514607\n",
      "R^2: 0.554291674273474\n",
      "Percentage of Succession: 42.9940119760479%\n"
     ]
    }
   ],
   "metadata": {}
  },
  {
   "cell_type": "markdown",
   "source": [
    "k-Nearest Neighbours with uniform και distance. Improvement on succession rate"
   ],
   "metadata": {}
  },
  {
   "cell_type": "code",
   "execution_count": 12,
   "source": [
    "from sklearn.neighbors import KNeighborsRegressor\r\n",
    "regr4 = KNeighborsRegressor()\r\n",
    "params = { \r\n",
    "           'n_neighbors': range(1,10),\r\n",
    "            'weights': ['uniform', 'distance']\r\n",
    "         }\r\n",
    "grid2 = GridSearchCV(estimator=regr4, cv = 10, param_grid=params) \r\n",
    "grid2.fit(cells_X_train_scaled, cells_y_train) \r\n",
    "cells_y_test_pred = grid2.predict(cells_X_test_scaled)\r\n",
    "\r\n",
    "print(\"Best Score: \" +str(grid2.best_score_))\r\n",
    "print(\"Best k: \" +str(grid2.best_params_['n_neighbors']))\r\n",
    "print(\"Best weighting strategy: \" +str(grid2.best_params_['weights']))\r\n",
    "print(\"R^2: \" +str(explained_variance_score(cells_y_train, cells_y_train_pred)))\r\n",
    "print(\"Percentage of Succession: \"+str(success_rate(cells_y_test_pred, cells_y_test, 1))+ \"%\")"
   ],
   "outputs": [
    {
     "output_type": "stream",
     "name": "stdout",
     "text": [
      "Best Score: 0.38079647749068585\n",
      "Best k: 9\n",
      "Best weighting strategy: distance\n",
      "R^2: 0.554291674273474\n",
      "Percentage of Succession: 46.82634730538922%\n"
     ]
    }
   ],
   "metadata": {}
  },
  {
   "cell_type": "markdown",
   "source": [
    "Ridge Regression in not normalized data - Polynomial Features of second degree"
   ],
   "metadata": {}
  },
  {
   "cell_type": "code",
   "execution_count": 13,
   "source": [
    "from sklearn.preprocessing import PolynomialFeatures\r\n",
    "polyModel = PolynomialFeatures(degree = 2)\r\n",
    "\r\n",
    "cells_X_train_poly = polyModel.fit_transform(cells_X_train)\r\n",
    "cells_X_test_poly = polyModel.fit_transform(cells_X_test)\r\n",
    "\r\n",
    "# normalize the polynomial features\r\n",
    "datascaler = StandardScaler().fit(cells_X_train_poly)\r\n",
    "cells_X_train_poly = datascaler.transform(cells_X_train_poly)\r\n",
    "cells_X_test_poly = datascaler.transform(cells_X_test_poly)\r\n",
    "\r\n",
    "regr3  = linear_model.Ridge(alpha=10**4)\r\n",
    "cells_y_train_pred = cross_val_predict(regr3, cells_X_train_poly, cells_y_train, cv=10)\r\n",
    "\r\n",
    "regr3.fit(cells_X_train_poly, cells_y_train)\r\n",
    "cells_y_test_pred = regr3.predict(cells_X_test_poly)\r\n",
    "\r\n",
    "print(\"R^2: \" +str(explained_variance_score(cells_y_train, cells_y_train_pred)))\r\n",
    "print(\"Percentage of Succession: \"+str(success_rate(cells_y_test_pred, cells_y_test, 1))+ \"%\")"
   ],
   "outputs": [
    {
     "output_type": "stream",
     "name": "stdout",
     "text": [
      "R^2: 0.32118187733465076\n",
      "Percentage of Succession: 32.93413173652694%\n"
     ]
    }
   ],
   "metadata": {}
  },
  {
   "cell_type": "markdown",
   "source": [
    "Simple Lineal Regression had the best results. We can understand that the relationship between the characteristics is linear."
   ],
   "metadata": {}
  }
 ],
 "metadata": {
  "kernelspec": {
   "display_name": "Python 3",
   "language": "python",
   "name": "python3"
  },
  "language_info": {
   "codemirror_mode": {
    "name": "ipython",
    "version": 3
   },
   "file_extension": ".py",
   "mimetype": "text/x-python",
   "name": "python",
   "nbconvert_exporter": "python",
   "pygments_lexer": "ipython3",
   "version": "3.8.8"
  }
 },
 "nbformat": 4,
 "nbformat_minor": 5
}